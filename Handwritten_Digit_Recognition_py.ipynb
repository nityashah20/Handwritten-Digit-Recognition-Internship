{
  "nbformat": 4,
  "nbformat_minor": 0,
  "metadata": {
    "colab": {
      "provenance": []
    },
    "kernelspec": {
      "name": "python3",
      "display_name": "Python 3"
    },
    "language_info": {
      "name": "python"
    }
  },
  "cells": [
    {
      "cell_type": "markdown",
      "source": [
        "# IMPORT LIBRARIES"
      ],
      "metadata": {
        "id": "Y2vmMgT3NXW8"
      }
    },
    {
      "cell_type": "code",
      "execution_count": null,
      "metadata": {
        "id": "4iJr4KZR2dpy"
      },
      "outputs": [],
      "source": [
        "#importing packages\n",
        "import numpy as np\n",
        "import tensorflow as tf\n",
        "from tensorflow import keras\n",
        "from keras.datasets import mnist\n",
        "import matplotlib.pyplot as plt\n",
        "import cv2"
      ]
    },
    {
      "cell_type": "markdown",
      "source": [
        "# DATA PREPARATION"
      ],
      "metadata": {
        "id": "3ZQ1f9bDNgC9"
      }
    },
    {
      "cell_type": "code",
      "source": [
        "# Model / data parameters\n",
        "num_classes = 10\n",
        "input_shape = (28, 28, 1)\n",
        "\n",
        "# the data, split between train and test sets\n",
        "(train_images, train_labels), (test_images, test_labels) = keras.datasets.mnist.load_data()\n",
        "\n",
        "# Scale images to the [0, 1] range\n",
        "train_images = train_images.astype(\"float32\") / 255     # (.astype(): changes the data type of the data frame)\n",
        "test_images = test_images.astype(\"float32\") / 255\n",
        "\n",
        "print(\"x_train shape:\", train_images.shape)\n",
        "print(train_images.shape[0], \"train samples\")\n",
        "print(test_images.shape[0], \"test samples\")\n",
        "\n",
        "\n",
        "# convert class vectors to binary class matrices\n",
        "train_labels = keras.utils.to_categorical(train_labels, num_classes)\n",
        "test_labels = keras.utils.to_categorical(test_labels, num_classes)"
      ],
      "metadata": {
        "colab": {
          "base_uri": "https://localhost:8080/"
        },
        "id": "8RLT78O73ypC",
        "outputId": "be96e9d9-2937-4d1f-f75f-8aa6b27103d5"
      },
      "execution_count": null,
      "outputs": [
        {
          "output_type": "stream",
          "name": "stdout",
          "text": [
            "Downloading data from https://storage.googleapis.com/tensorflow/tf-keras-datasets/mnist.npz\n",
            "11490434/11490434 [==============================] - 0s 0us/step\n",
            "x_train shape: (60000, 28, 28)\n",
            "60000 train samples\n",
            "10000 test samples\n"
          ]
        }
      ]
    },
    {
      "cell_type": "markdown",
      "source": [
        "# MODEL BUILDING"
      ],
      "metadata": {
        "id": "DMPgx30nNkQD"
      }
    },
    {
      "cell_type": "code",
      "source": [
        "model = keras.Sequential(\n",
        "    [\n",
        "        keras.Input(shape=input_shape),\n",
        "        keras.layers.Conv2D(32, kernel_size=(3, 3), activation=\"relu\"),\n",
        "        keras.layers.MaxPooling2D(pool_size=(2, 2)),\n",
        "        keras.layers.Conv2D(64, kernel_size=(3, 3), activation=\"relu\"),\n",
        "        keras.layers.MaxPooling2D(pool_size=(2, 2)),\n",
        "        keras.layers.Flatten(),\n",
        "        keras.layers.Dropout(0.5),\n",
        "        keras.layers.Dense(num_classes, activation=\"softmax\"),\n",
        "    ]\n",
        ")\n"
      ],
      "metadata": {
        "id": "SuO34dzl5aoA"
      },
      "execution_count": null,
      "outputs": []
    },
    {
      "cell_type": "markdown",
      "source": [
        "# MODEL TRAINING"
      ],
      "metadata": {
        "id": "J0epEbBTNsHS"
      }
    },
    {
      "cell_type": "code",
      "source": [
        "batch_size = 128\n",
        "epochs = 5\n",
        "\n",
        "model.compile(loss=\"categorical_crossentropy\", optimizer=\"adam\", metrics=[\"accuracy\"])\n",
        "\n",
        "model.fit(train_images, train_labels, batch_size=batch_size, epochs=epochs, validation_split=0.1)"
      ],
      "metadata": {
        "colab": {
          "base_uri": "https://localhost:8080/"
        },
        "id": "hhzokXWV7nvQ",
        "outputId": "ed38aac5-628b-4be8-fada-0a1eb8f444cc"
      },
      "execution_count": null,
      "outputs": [
        {
          "output_type": "stream",
          "name": "stdout",
          "text": [
            "Epoch 1/5\n",
            "422/422 [==============================] - 59s 130ms/step - loss: 0.3733 - accuracy: 0.8866 - val_loss: 0.0831 - val_accuracy: 0.9778\n",
            "Epoch 2/5\n",
            "422/422 [==============================] - 45s 107ms/step - loss: 0.1176 - accuracy: 0.9645 - val_loss: 0.0583 - val_accuracy: 0.9828\n",
            "Epoch 3/5\n",
            "422/422 [==============================] - 48s 114ms/step - loss: 0.0882 - accuracy: 0.9721 - val_loss: 0.0497 - val_accuracy: 0.9858\n",
            "Epoch 4/5\n",
            "422/422 [==============================] - 46s 109ms/step - loss: 0.0744 - accuracy: 0.9772 - val_loss: 0.0468 - val_accuracy: 0.9873\n",
            "Epoch 5/5\n",
            "422/422 [==============================] - 47s 110ms/step - loss: 0.0641 - accuracy: 0.9800 - val_loss: 0.0390 - val_accuracy: 0.9887\n"
          ]
        },
        {
          "output_type": "execute_result",
          "data": {
            "text/plain": [
              "<keras.callbacks.History at 0x7f4c680d5f70>"
            ]
          },
          "metadata": {},
          "execution_count": 4
        }
      ]
    },
    {
      "cell_type": "markdown",
      "source": [
        "# MODEL EVALUATION"
      ],
      "metadata": {
        "id": "myA4Gd5Y7jAM"
      }
    },
    {
      "cell_type": "code",
      "source": [
        "score = model.evaluate(test_images, test_labels, verbose=0)\n",
        "print(\"Test loss:\", score[0])\n",
        "print(\"Test accuracy:\", score[1])\n",
        "model.save('mnist')"
      ],
      "metadata": {
        "colab": {
          "base_uri": "https://localhost:8080/"
        },
        "id": "zF5eh-Uu7mFf",
        "outputId": "ccdfd678-f67d-4476-8796-81dac2771828"
      },
      "execution_count": null,
      "outputs": [
        {
          "output_type": "stream",
          "name": "stdout",
          "text": [
            "Test loss: 0.03481988608837128\n",
            "Test accuracy: 0.9879999756813049\n"
          ]
        },
        {
          "output_type": "stream",
          "name": "stderr",
          "text": [
            "WARNING:absl:Found untraced functions such as _jit_compiled_convolution_op, _jit_compiled_convolution_op, _update_step_xla while saving (showing 3 of 3). These functions will not be directly callable after loading.\n"
          ]
        }
      ]
    },
    {
      "cell_type": "markdown",
      "source": [
        "# EXECUTION 1\n"
      ],
      "metadata": {
        "id": "sLWImd9T7ssd"
      }
    },
    {
      "cell_type": "code",
      "source": [
        "# You can put between 0 to 59999 here\n",
        "index = 500\n",
        "# Set number of characters per row when printing\n",
        "np.set_printoptions(linewidth = 300)\n",
        "\n",
        "# Print the label and image\n",
        "print(f'LABEL: {train_labels[index]}')\n",
        "print(f'\\nIMAGE PIXEL ARRAY:\\n {train_images[index]}')\n",
        "\n",
        "# Visualize the image\n",
        "plt.imshow(train_images[index])"
      ],
      "metadata": {
        "colab": {
          "base_uri": "https://localhost:8080/"
        },
        "id": "5OGzgGj77-0y",
        "outputId": "be886b2d-c9b5-40ca-aaac-4c68ac14da39"
      },
      "execution_count": null,
      "outputs": [
        {
          "output_type": "stream",
          "name": "stdout",
          "text": [
            "LABEL: [0. 0. 0. 1. 0. 0. 0. 0. 0. 0.]\n",
            "\n",
            "IMAGE PIXEL ARRAY:\n",
            " [[0.         0.         0.         0.         0.         0.         0.         0.         0.         0.         0.         0.         0.         0.         0.         0.         0.         0.         0.         0.         0.         0.         0.         0.         0.         0.         0.\n",
            "  0.        ]\n",
            " [0.         0.         0.         0.         0.         0.         0.         0.         0.         0.         0.         0.         0.         0.         0.         0.         0.         0.         0.         0.         0.         0.         0.         0.         0.         0.         0.\n",
            "  0.        ]\n",
            " [0.         0.         0.         0.         0.         0.         0.         0.         0.         0.         0.         0.         0.         0.         0.         0.         0.         0.         0.         0.         0.         0.         0.         0.         0.         0.         0.\n",
            "  0.        ]\n",
            " [0.         0.         0.         0.         0.         0.         0.         0.         0.         0.         0.         0.         0.         0.         0.         0.         0.         0.         0.         0.         0.         0.         0.         0.         0.         0.         0.\n",
            "  0.        ]\n",
            " [0.         0.         0.         0.         0.         0.         0.         0.         0.         0.         0.         0.         0.         0.         0.         0.         0.         0.         0.         0.         0.         0.         0.         0.         0.         0.         0.\n",
            "  0.        ]\n",
            " [0.         0.         0.         0.         0.         0.         0.         0.         0.         0.         0.         0.         0.         0.         0.         0.         0.         0.         0.         0.         0.         0.         0.         0.         0.         0.         0.\n",
            "  0.        ]\n",
            " [0.         0.         0.         0.         0.         0.14901961 0.7490196  0.5411765  0.09411765 0.09411765 0.42352942 0.5411765  0.13333334 0.         0.         0.         0.         0.         0.         0.         0.         0.         0.         0.         0.         0.         0.\n",
            "  0.        ]\n",
            " [0.         0.         0.         0.         0.         0.27450982 0.9882353  0.9882353  0.99215686 0.9882353  0.9882353  0.9882353  0.9882353  0.63529414 0.34509805 0.05098039 0.         0.         0.         0.         0.         0.         0.         0.         0.         0.         0.\n",
            "  0.        ]\n",
            " [0.         0.         0.         0.         0.         0.2        0.9411765  0.9882353  0.99215686 0.9411765  0.7176471  0.7176471  0.9647059  0.99215686 0.9882353  0.7921569  0.5568628  0.02745098 0.         0.         0.         0.         0.         0.         0.         0.         0.\n",
            "  0.        ]\n",
            " [0.         0.         0.         0.         0.         0.         0.14509805 0.38431373 0.827451   0.80784315 0.         0.         0.16470589 0.42745098 0.69411767 0.9882353  0.9882353  0.827451   0.16862746 0.         0.         0.         0.         0.         0.         0.         0.\n",
            "  0.        ]\n",
            " [0.         0.         0.         0.         0.         0.         0.         0.         0.05098039 0.07058824 0.         0.         0.         0.         0.01960784 0.21176471 0.7019608  0.9882353  0.8627451  0.         0.         0.         0.         0.         0.         0.         0.\n",
            "  0.        ]\n",
            " [0.         0.         0.         0.         0.         0.         0.         0.         0.         0.         0.         0.         0.         0.         0.         0.         0.16862746 0.94509804 1.         0.36078432 0.         0.         0.         0.         0.         0.         0.\n",
            "  0.        ]\n",
            " [0.         0.         0.         0.         0.         0.         0.         0.         0.         0.         0.         0.         0.         0.         0.         0.         0.         0.9019608  0.99215686 0.36078432 0.         0.         0.         0.         0.         0.         0.\n",
            "  0.        ]\n",
            " [0.         0.         0.         0.         0.         0.         0.         0.         0.         0.         0.         0.         0.         0.         0.         0.         0.26666668 0.9647059  0.96862745 0.2627451  0.         0.         0.         0.         0.         0.         0.\n",
            "  0.        ]\n",
            " [0.         0.         0.         0.         0.         0.         0.         0.         0.         0.         0.         0.         0.         0.         0.         0.         0.5254902  0.9882353  0.36862746 0.         0.         0.         0.         0.         0.         0.         0.\n",
            "  0.        ]\n",
            " [0.         0.         0.         0.         0.         0.         0.         0.         0.         0.         0.         0.         0.         0.         0.         0.45490196 0.972549   0.78431374 0.         0.         0.         0.         0.         0.         0.         0.         0.\n",
            "  0.        ]\n",
            " [0.         0.         0.         0.         0.         0.         0.         0.         0.         0.         0.         0.         0.         0.05098039 0.38039216 0.87058824 0.7529412  0.04313726 0.         0.         0.         0.         0.         0.         0.         0.         0.\n",
            "  0.        ]\n",
            " [0.         0.         0.         0.         0.         0.         0.         0.         0.         0.         0.         0.14901961 0.3882353  0.8156863  0.8901961  0.68235296 0.06666667 0.         0.         0.         0.         0.         0.         0.         0.         0.         0.\n",
            "  0.        ]\n",
            " [0.         0.         0.         0.         0.         0.         0.         0.         0.         0.         0.         0.8117647  0.9882353  0.92941177 0.34509805 0.         0.         0.         0.         0.         0.         0.         0.         0.         0.         0.         0.\n",
            "  0.        ]\n",
            " [0.         0.         0.         0.         0.         0.         0.         0.         0.         0.         0.         0.3137255  0.7921569  0.99215686 0.95686275 0.8117647  0.3137255  0.         0.         0.         0.         0.         0.         0.         0.         0.         0.\n",
            "  0.        ]\n",
            " [0.         0.         0.         0.         0.         0.         0.         0.         0.         0.         0.         0.         0.04313726 0.3764706  0.9882353  0.9882353  0.95686275 0.28627452 0.         0.         0.         0.         0.         0.         0.         0.         0.\n",
            "  0.        ]\n",
            " [0.         0.         0.         0.         0.         0.         0.         0.         0.         0.         0.         0.         0.         0.         0.08627451 0.78039217 0.9764706  0.99215686 0.5019608  0.03529412 0.         0.         0.         0.         0.         0.         0.\n",
            "  0.        ]\n",
            " [0.         0.         0.         0.         0.         0.         0.         0.         0.         0.         0.         0.         0.         0.         0.         0.         0.4627451  0.972549   0.99215686 0.44313726 0.         0.         0.         0.         0.         0.         0.\n",
            "  0.        ]\n",
            " [0.         0.         0.         0.         0.         0.         0.         0.         0.         0.         0.         0.         0.         0.         0.         0.         0.         0.4509804  0.99215686 0.9411765  0.19607843 0.         0.         0.         0.         0.         0.\n",
            "  0.        ]\n",
            " [0.         0.         0.         0.         0.         0.         0.         0.         0.         0.         0.         0.         0.         0.         0.         0.         0.         0.         0.99215686 0.9882353  0.27058825 0.         0.         0.         0.         0.         0.\n",
            "  0.        ]\n",
            " [0.         0.         0.         0.         0.         0.         0.         0.         0.         0.         0.         0.         0.         0.         0.         0.         0.         0.         0.99215686 0.90588236 0.14509805 0.         0.         0.         0.         0.         0.\n",
            "  0.        ]\n",
            " [0.         0.         0.         0.         0.         0.         0.         0.         0.         0.         0.         0.         0.         0.         0.         0.         0.         0.         0.         0.         0.         0.         0.         0.         0.         0.         0.\n",
            "  0.        ]\n",
            " [0.         0.         0.         0.         0.         0.         0.         0.         0.         0.         0.         0.         0.         0.         0.         0.         0.         0.         0.         0.         0.         0.         0.         0.         0.         0.         0.\n",
            "  0.        ]]\n"
          ]
        },
        {
          "output_type": "execute_result",
          "data": {
            "text/plain": [
              "<matplotlib.image.AxesImage at 0x7f4c676ec790>"
            ]
          },
          "metadata": {},
          "execution_count": 6
        },
        {
          "output_type": "display_data",
          "data": {
            "text/plain": [
              "<Figure size 432x288 with 1 Axes>"
            ],
            "image/png": "[encoded data removed]"
          },
          "metadata": {
            "needs_background": "light"
          }
        }
      ]
    },
    {
      "cell_type": "markdown",
      "source": [
        "# EXECUTION 2"
      ],
      "metadata": {
        "id": "5lqV3dVP721Z"
      }
    },
    {
      "cell_type": "code",
      "source": [
        "plt.title(train_labels[index])\n",
        "plt.imshow(train_images[index], cmap='gray')\n",
        "plt.plot()"
      ],
      "metadata": {
        "id": "mDSdA-Td75vd",
        "colab": {
          "base_uri": "https://localhost:8080/"
        },
        "outputId": "3a3c721d-2698-43bb-ba9e-9dae02adbe8d"
      },
      "execution_count": null,
      "outputs": [
        {
          "output_type": "stream",
          "name": "stderr",
          "text": [
            "/usr/local/lib/python3.9/dist-packages/matplotlib/text.py:1223: FutureWarning: elementwise comparison failed; returning scalar instead, but in the future will perform elementwise comparison\n",
            "  if s != self._text:\n"
          ]
        },
        {
          "output_type": "execute_result",
          "data": {
            "text/plain": [
              "[]"
            ]
          },
          "metadata": {},
          "execution_count": 7
        },
        {
          "output_type": "display_data",
          "data": {
            "text/plain": [
              "<Figure size 432x288 with 1 Axes>"
            ],
            "image/png": "[encoded data removed]"
          },
          "metadata": {
            "needs_background": "light"
          }
        }
      ]
    },
    {
      "cell_type": "markdown",
      "source": [
        "# EXECUTION 3"
      ],
      "metadata": {
        "id": "ITey1svnnRQU"
      }
    },
    {
      "cell_type": "code",
      "source": [
        "index = 250\n",
        "plt.imshow(test_images[index].reshape(28, 28),cmap='Greys')\n",
        "predict = test_images[index].reshape(28,28)\n",
        "pred = model.predict(test_images[index].reshape(1, 28, 28, 1))\n",
        "print(pred.argmax())"
      ],
      "metadata": {
        "colab": {
          "base_uri": "https://localhost:8080/",
          "height": 300
        },
        "id": "a3NwuGh_Bpw2",
        "outputId": "beeca923-0355-4d40-862f-4a24147ee494"
      },
      "execution_count": null,
      "outputs": [
        {
          "output_type": "stream",
          "name": "stdout",
          "text": [
            "1/1 [==============================] - 0s 95ms/step\n",
            "4\n"
          ]
        },
        {
          "output_type": "display_data",
          "data": {
            "text/plain": [
              "<Figure size 432x288 with 1 Axes>"
            ],
            "image/png": "[encoded data removed]"
          },
          "metadata": {
            "needs_background": "light"
          }
        }
      ]
    }
  ]
}